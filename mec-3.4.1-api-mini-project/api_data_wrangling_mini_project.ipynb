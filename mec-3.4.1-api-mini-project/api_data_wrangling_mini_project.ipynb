{
 "cells": [
  {
   "cell_type": "markdown",
   "source": [
    "This exercise will require you to pull some data from https://data.nasdaq.com/ (formerly Quandl API)."
   ],
   "metadata": {}
  },
  {
   "cell_type": "markdown",
   "source": [
    "As a first step, you will need to register a free account on the https://data.nasdaq.com/ website."
   ],
   "metadata": {}
  },
  {
   "cell_type": "markdown",
   "source": [
    "After you register, you will be provided with a unique API key, that you should store:\n",
    "\n",
    "*Note*: Use a `.env` file and put your key in there and `python-dotenv` to access it in this notebook. \n",
    "\n",
    "The code below uses a key that was used when generating this project but has since been deleted. Never submit your keys to source control. There is a `.env-example` file in this repository to illusrtate what you need. Copy that to a file called `.env` and use your own api key in that `.env` file. Make sure you also have a `.gitignore` file with a line for `.env` added to it. \n",
    "\n",
    "The standard Python gitignore is [here](https://github.com/github/gitignore/blob/master/Python.gitignore) you can just copy that. "
   ],
   "metadata": {}
  },
  {
   "cell_type": "code",
   "execution_count": 1,
   "source": [
    "# get api key from your .env file\n",
    "import os\n",
    "from dotenv import load_dotenv  # if missing this module, simply run `pip install python-dotenv`\n",
    "\n",
    "load_dotenv(\".env\")\n",
    "API_KEY = os.getenv('MY_NASDAQ_API_KEY')\n",
    "\n",
    "print(API_KEY)"
   ],
   "outputs": [
    {
     "name": "stdout",
     "output_type": "stream",
     "text": [
      "WkzLccU2LzQUg1Us_3nf\n"
     ]
    }
   ],
   "metadata": {}
  },
  {
   "cell_type": "markdown",
   "source": [
    "Nasdaq Data has a large number of data sources, but, unfortunately, most of them require a Premium subscription. Still, there are also a good number of free datasets."
   ],
   "metadata": {}
  },
  {
   "cell_type": "markdown",
   "source": [
    "For this mini project, we will focus on equities data from the Frankfurt Stock Exhange (FSE), which is available for free. We'll try and analyze the stock prices of a company called Carl Zeiss Meditec, which manufactures tools for eye examinations, as well as medical lasers for laser eye surgery: https://www.zeiss.com/meditec/int/home.html. The company is listed under the stock ticker AFX_X."
   ],
   "metadata": {}
  },
  {
   "cell_type": "markdown",
   "source": [
    "You can find the detailed Nasdaq Data API instructions here: https://docs.data.nasdaq.com/docs/in-depth-usage"
   ],
   "metadata": {}
  },
  {
   "cell_type": "markdown",
   "source": [
    "While there is a dedicated Python package for connecting to the Nasdaq API, we would prefer that you use the *requests* package, which can be easily downloaded using *pip* or *conda*. You can find the documentation for the package here: http://docs.python-requests.org/en/master/ "
   ],
   "metadata": {}
  },
  {
   "cell_type": "markdown",
   "source": [
    "Finally, apart from the *requests* package, you are encouraged to not use any third party Python packages, such as *pandas*, and instead focus on what's available in the Python Standard Library (the *collections* module might come in handy: https://pymotw.com/3/collections/).\n",
    "Also, since you won't have access to DataFrames, you are encouraged to us Python's native data structures - preferably dictionaries, though some questions can also be answered using lists.\n",
    "You can read more on these data structures here: https://docs.python.org/3/tutorial/datastructures.html"
   ],
   "metadata": {}
  },
  {
   "cell_type": "markdown",
   "source": [
    "Keep in mind that the JSON responses you will be getting from the API map almost one-to-one to Python's dictionaries. Unfortunately, they can be very nested, so make sure you read up on indexing dictionaries in the documentation provided above."
   ],
   "metadata": {}
  },
  {
   "cell_type": "code",
   "execution_count": 2,
   "source": [
    "# First, import the relevant modules\n",
    "import requests as req\n",
    "from collections import defaultdict\n",
    "from urllib.request import urlopen"
   ],
   "outputs": [],
   "metadata": {}
  },
  {
   "cell_type": "markdown",
   "source": [
    "Note: API's can change a bit with each version, for this exercise it is reccomended to use the nasdaq api at `https://data.nasdaq.com/api/v3/`. This is the same api as what used to be quandl so `https://www.quandl.com/api/v3/` should work too.\n",
    "\n",
    "Hint: We are looking for the `AFX_X` data on the `datasets/FSE/` dataset."
   ],
   "metadata": {}
  },
  {
   "cell_type": "code",
   "execution_count": 3,
   "source": [
    "# Now, call the Nasdaq API and pull out a small sample of the data (only one day) to get a glimpse\n",
    "# into the JSON structure that will be returned\n",
    "url = req.get(\"https://data.nasdaq.com/api/v3/datasets/FSE/AFX_X.json\", data={'start_date': '2020-11-02', 'end_date': '2020-11-02'})\n",
    "#create a get request filtered for a singular day of AFX_X activity\n",
    "# Noticing more than one call, so variable time\n",
    "url_json = url.json()\n",
    "print(url_json)\n"
   ],
   "outputs": [
    {
     "name": "stdout",
     "output_type": "stream",
     "text": [
      "{'dataset': {'id': 10095370, 'dataset_code': 'AFX_X', 'database_code': 'FSE', 'name': 'Carl Zeiss Meditec (AFX_X)', 'description': 'Stock Prices for Carl Zeiss Meditec (2020-11-02) from the Frankfurt Stock Exchange.<br><br>Trading System: Xetra<br><br>ISIN: DE0005313704', 'refreshed_at': '2020-12-01T14:48:09.907Z', 'newest_available_date': '2020-12-01', 'oldest_available_date': '2000-06-07', 'column_names': ['Date', 'Open', 'High', 'Low', 'Close', 'Change', 'Traded Volume', 'Turnover', 'Last Price of the Day', 'Daily Traded Units', 'Daily Turnover'], 'frequency': 'daily', 'type': 'Time Series', 'premium': False, 'limit': None, 'transform': None, 'column_index': None, 'start_date': '2020-11-02', 'end_date': '2020-11-02', 'data': [['2020-11-02', 111.3, 111.6, 108.1, 108.1, None, 362.0, 39844.5, None, None, None]], 'collapse': None, 'order': None, 'database_id': 6129}}\n"
     ]
    }
   ],
   "metadata": {}
  },
  {
   "cell_type": "code",
   "execution_count": 4,
   "source": [
    "# Inspect the JSON structure of the object you created, and take note of how nested it is,\n",
    "# as well as the overall structure\n",
    "# This was already done above with a print\n",
    "print(url_json)"
   ],
   "outputs": [
    {
     "name": "stdout",
     "output_type": "stream",
     "text": [
      "{'dataset': {'id': 10095370, 'dataset_code': 'AFX_X', 'database_code': 'FSE', 'name': 'Carl Zeiss Meditec (AFX_X)', 'description': 'Stock Prices for Carl Zeiss Meditec (2020-11-02) from the Frankfurt Stock Exchange.<br><br>Trading System: Xetra<br><br>ISIN: DE0005313704', 'refreshed_at': '2020-12-01T14:48:09.907Z', 'newest_available_date': '2020-12-01', 'oldest_available_date': '2000-06-07', 'column_names': ['Date', 'Open', 'High', 'Low', 'Close', 'Change', 'Traded Volume', 'Turnover', 'Last Price of the Day', 'Daily Traded Units', 'Daily Turnover'], 'frequency': 'daily', 'type': 'Time Series', 'premium': False, 'limit': None, 'transform': None, 'column_index': None, 'start_date': '2020-11-02', 'end_date': '2020-11-02', 'data': [['2020-11-02', 111.3, 111.6, 108.1, 108.1, None, 362.0, 39844.5, None, None, None]], 'collapse': None, 'order': None, 'database_id': 6129}}\n"
     ]
    }
   ],
   "metadata": {}
  },
  {
   "cell_type": "markdown",
   "source": [
    "These are your tasks for this mini project:\n",
    "\n",
    "1. Collect data from the Frankfurt Stock Exchange, for the ticker AFX_X, for the whole year 2017 (keep in mind that the date format is YYYY-MM-DD).\n",
    "2. Convert the returned JSON object into a Python dictionary.\n",
    "3. Calculate what the highest and lowest opening prices were for the stock in this period.\n",
    "4. What was the largest change in any one day (based on High and Low price)?\n",
    "5. What was the largest change between any two days (based on Closing Price)?\n",
    "6. What was the average daily trading volume during this year?\n",
    "7. (Optional) What was the median trading volume during this year. (Note: you may need to implement your own function for calculating the median.)"
   ],
   "metadata": {}
  },
  {
   "cell_type": "code",
   "execution_count": 30,
   "outputs": [
    {
     "name": "stdout",
     "output_type": "stream",
     "text": [
      "https://data.nasdaq.com/api/v3/datasets/FSE/AFX_X.json\n",
      "['Date', 'Open', 'High', 'Low', 'Close', 'Change', 'Traded Volume', 'Turnover', 'Last Price of the Day', 'Daily Traded Units', 'Daily Turnover']\n",
      "Highest opening price: 53.11\n",
      "Lowest opening price: 34.0\n",
      "Largest day change: 2.8100000000000023\n",
      "Largest closing shift change: -2.559999999999995\n",
      "Average number of daily trades: 89124.33725490196\n"
     ]
    }
   ],
   "source": [
    "# request complete data for AFX_X during 2017.\n",
    "data_dict = dict()\n",
    "data_dict['start_date'] = '2017-01-01'\n",
    "data_dict['end_date'] = '2017-12-31'\n",
    "data_dict['api_key'] = API_KEY\n",
    "\n",
    "# Define a url ending with a .json to retrieve JSON data. (Also have csv and xml if wanted)\n",
    "afx_x_stock_url = \"https://data.nasdaq.com/api/v3/datasets/FSE/AFX_X.json\"\n",
    "\n",
    "# Create the needed GET request\n",
    "year_data_req = req.get(afx_x_stock_url, data=data_dict)\n",
    "print(year_data_req.request.url)\n",
    "year_data_json = year_data_req.json()\n",
    "#print(year_data_json)\n",
    "\n",
    "# Our json data contains a data field with a list of entries by date\n",
    "# Extract just data field\n",
    "year_data_json_raw = year_data_json['dataset']['data']\n",
    "# Combine into dictionary with a NASDAQ entry class containing all parts of the data\n",
    "# This allows a dictionary lookup by date, with a nice class to handle items\n",
    "\n",
    "print(year_data_json['dataset']['column_names'])\n",
    "\n",
    "class AFX_X_Entry:\n",
    "    date = ''\n",
    "    opening_price : float = None\n",
    "    daily_high = None\n",
    "    daily_low = None\n",
    "    closing_price = None\n",
    "    change = None\n",
    "    traded_volume = None\n",
    "    turnover = None\n",
    "    last_price_of_day = None\n",
    "    num_traded_units = None\n",
    "    daily_turnover = None\n",
    "    def __init__(self, data_array : []):\n",
    "        super()\n",
    "        self.date = data_array[0]\n",
    "        self.opening_price : float = data_array[1]\n",
    "        self.daily_high : float = data_array[2]\n",
    "        self.daily_low = data_array[3]\n",
    "        self.closing_price = data_array[4]\n",
    "        self.change = data_array[5]\n",
    "        self.traded_volume = data_array[6]\n",
    "        self.turnover = data_array[7]\n",
    "        self.last_price_of_day = data_array[8]\n",
    "        self.num_traded_units = data_array[9]\n",
    "        self.daily_turnover = data_array[10]\n",
    "\n",
    "# Build up our dict from the retrieved JSON data\n",
    "# Note: this year is missing several entries. We will\n",
    "# want to use the number of entries for averages instead\n",
    "# of relying on the number of days in a year.\n",
    "afx_x_stock_dict = dict()\n",
    "for i in range(0, len(year_data_json_raw)):\n",
    "    afx_x_stock_dict[year_data_json_raw[i][0]] = AFX_X_Entry(year_data_json_raw[i])\n",
    "# This should finish tasks 1 and 2\n",
    "# Calculate highest and lowest price, largest day change (high to low), largest closing difference\n",
    "highest_opening = None\n",
    "lowest_opening = None\n",
    "largest_day_change = None\n",
    "largest_closing_diff = None\n",
    "prev_day_close_price = None\n",
    "total_num_daily_trades = 0\n",
    "\n",
    "for v in afx_x_stock_dict.values():\n",
    "    if highest_opening is None and v.opening_price is not None:\n",
    "        highest_opening = v.opening_price\n",
    "    elif v.opening_price is not None and v.opening_price > highest_opening:\n",
    "        highest_opening = v.opening_price\n",
    "    if lowest_opening is None and v.opening_price is not None:\n",
    "        lowest_opening = v.opening_price\n",
    "    elif v.opening_price is not None and v.opening_price < lowest_opening:\n",
    "        lowest_opening = v.opening_price\n",
    "    if largest_day_change is None and v.change is not None:\n",
    "        largest_day_change = v.change\n",
    "    elif largest_day_change is None and v.daily_high is not None and v.daily_low is not None:\n",
    "        largest_day_change = v.daily_high - v.daily_low\n",
    "    elif v.change is not None and abs(v.change) > abs(largest_day_change):\n",
    "        largest_day_change = v.change\n",
    "    elif v.daily_high is not None and v.daily_low is not None and abs(largest_day_change) < abs(v.daily_high - v.daily_low):\n",
    "        largest_day_change = v.daily_high - v.daily_low\n",
    "    if v.traded_volume is not None:\n",
    "        total_num_daily_trades = total_num_daily_trades + v.traded_volume\n",
    "\n",
    "largest_closing_shift = 0\n",
    "afx_x_stock_dict_key_list = list(afx_x_stock_dict)\n",
    "\n",
    "#for now, assuming the closing compares are wanted against consecutive entries, not dates\n",
    "for i in range(0, len(afx_x_stock_dict_key_list) - 1):\n",
    "    current_day = afx_x_stock_dict[afx_x_stock_dict_key_list[i]]\n",
    "    next_day = afx_x_stock_dict[afx_x_stock_dict_key_list[i + 1]]\n",
    "    if current_day.closing_price is not None and next_day.closing_price is not None:\n",
    "        if abs(largest_closing_shift) < abs(current_day.closing_price - next_day.closing_price):\n",
    "            largest_closing_shift = current_day.closing_price - next_day.closing_price\n",
    "\n",
    "\n",
    "avg_daily_trades = total_num_daily_trades / len([x for x in afx_x_stock_dict.values() if x.traded_volume != None])\n",
    "\n",
    "print(\"Highest opening price: {}\".format(highest_opening))\n",
    "print(\"Lowest opening price: {}\".format(lowest_opening))\n",
    "print(\"Largest day change: {}\".format(largest_day_change))\n",
    "print(\"Largest closing shift change: {}\".format(largest_closing_shift))\n",
    "print(\"Average number of daily trades: {}\".format(avg_daily_trades))\n",
    "# Step 3 end\n"
   ],
   "metadata": {
    "collapsed": false,
    "pycharm": {
     "name": "#%%\n"
    }
   }
  },
  {
   "cell_type": "code",
   "execution_count": 9,
   "source": [
    "# Optional challenge here\n"
   ],
   "outputs": [],
   "metadata": {}
  }
 ],
 "metadata": {
  "kernelspec": {
   "name": "python3",
   "display_name": "Python 3.7.9 64-bit ('springboard': conda)"
  },
  "language_info": {
   "codemirror_mode": {
    "name": "ipython",
    "version": 3
   },
   "file_extension": ".py",
   "mimetype": "text/x-python",
   "name": "python",
   "nbconvert_exporter": "python",
   "pygments_lexer": "ipython3",
   "version": "3.7.9"
  },
  "interpreter": {
   "hash": "4885f37acae9217c235118400878352aafa7b76e66df698a1f601374f86939a7"
  }
 },
 "nbformat": 4,
 "nbformat_minor": 4
}